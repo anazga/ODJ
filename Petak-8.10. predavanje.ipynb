{
 "cells": [
  {
   "cell_type": "markdown",
   "metadata": {},
   "source": [
    "# Prikaz brojeva u računalu\n",
    "\n",
    "Maksimalni i minimalni prikazivi broj u dvosturkoj preciznosti mozemo dobiti:"
   ]
  },
  {
   "cell_type": "code",
   "execution_count": 1,
   "metadata": {},
   "outputs": [
    {
     "name": "stdout",
     "output_type": "stream",
     "text": [
      "x_max= 1.7976931348623157e+308\n",
      "x_min= 2.2250738585072014e-308\n",
      "eps= 2.220446049250313e-16\n"
     ]
    }
   ],
   "source": [
    "import sys\n",
    "print(\"x_max=\",sys.float_info.max)\n",
    "print(\"x_min=\", sys.float_info.min)\n",
    "print(\"eps=\", sys.float_info.epsilon)"
   ]
  },
  {
   "cell_type": "markdown",
   "metadata": {},
   "source": [
    "S druge strane možemo korisiti i biblioteku Numpy za dobivanje osnovnih vrijesnosti o fp-sustavu"
   ]
  },
  {
   "cell_type": "code",
   "execution_count": 2,
   "metadata": {},
   "outputs": [
    {
     "name": "stdout",
     "output_type": "stream",
     "text": [
      "Machine parameters for float64\n",
      "---------------------------------------------------------------\n",
      "precision =  15   resolution = 1.0000000000000001e-15\n",
      "machep =    -52   eps =        2.2204460492503131e-16\n",
      "negep =     -53   epsneg =     1.1102230246251565e-16\n",
      "minexp =  -1022   tiny =       2.2250738585072014e-308\n",
      "maxexp =   1024   max =        1.7976931348623157e+308\n",
      "nexp =       11   min =        -max\n",
      "---------------------------------------------------------------\n",
      "\n"
     ]
    }
   ],
   "source": [
    "import numpy as np\n",
    "print(np.finfo(np.float64))"
   ]
  },
  {
   "cell_type": "markdown",
   "metadata": {},
   "source": [
    "Sada ćemo vidjeti kako možemo dobiti npr. vrijednosti inf i nan"
   ]
  },
  {
   "cell_type": "code",
   "execution_count": 3,
   "metadata": {},
   "outputs": [
    {
     "name": "stdout",
     "output_type": "stream",
     "text": [
      "a= inf\n",
      "b= nan\n"
     ]
    }
   ],
   "source": [
    "\n",
    "a=0.2e2000\n",
    "print(\"a=\",a)\n",
    "b=float('inf')-float('inf')\n",
    "print(\"b=\", b)"
   ]
  },
  {
   "cell_type": "markdown",
   "metadata": {},
   "source": [
    "Dijeljnje s nulom, rezultira porukom upozorenja. U Matlabu bismo dobili Inf"
   ]
  },
  {
   "cell_type": "code",
   "execution_count": 17,
   "metadata": {},
   "outputs": [
    {
     "ename": "ZeroDivisionError",
     "evalue": "float division by zero",
     "output_type": "error",
     "traceback": [
      "\u001b[1;31m---------------------------------------------------------------------------\u001b[0m",
      "\u001b[1;31mZeroDivisionError\u001b[0m                         Traceback (most recent call last)",
      "\u001b[1;32m<ipython-input-17-67dd72a21b88>\u001b[0m in \u001b[0;36m<module>\u001b[1;34m()\u001b[0m\n\u001b[1;32m----> 1\u001b[1;33m \u001b[0mc\u001b[0m\u001b[1;33m=\u001b[0m\u001b[1;36m1.0\u001b[0m\u001b[1;33m/\u001b[0m\u001b[1;36m0.0\u001b[0m\u001b[1;33m\u001b[0m\u001b[0m\n\u001b[0m\u001b[0;32m      2\u001b[0m \u001b[0mprint\u001b[0m\u001b[1;33m(\u001b[0m\u001b[1;34m\"c=\"\u001b[0m\u001b[1;33m,\u001b[0m \u001b[0mc\u001b[0m\u001b[1;33m)\u001b[0m\u001b[1;33m\u001b[0m\u001b[0m\n",
      "\u001b[1;31mZeroDivisionError\u001b[0m: float division by zero"
     ]
    }
   ],
   "source": [
    "c=1.0/0.0\n",
    "print(\"c=\", c)"
   ]
  },
  {
   "cell_type": "markdown",
   "metadata": {},
   "source": [
    "Također sljedeća operacija signalizira na pretek. U Matlabu bismo računajući $2^{2000}$ dobili INF"
   ]
  },
  {
   "cell_type": "code",
   "execution_count": 4,
   "metadata": {},
   "outputs": [
    {
     "ename": "OverflowError",
     "evalue": "(34, 'Result too large')",
     "output_type": "error",
     "traceback": [
      "\u001b[1;31m---------------------------------------------------------------------------\u001b[0m",
      "\u001b[1;31mOverflowError\u001b[0m                             Traceback (most recent call last)",
      "\u001b[1;32m<ipython-input-4-9bdaa5e199aa>\u001b[0m in \u001b[0;36m<module>\u001b[1;34m()\u001b[0m\n\u001b[1;32m----> 1\u001b[1;33m \u001b[0md\u001b[0m\u001b[1;33m=\u001b[0m\u001b[1;36m2.0\u001b[0m\u001b[1;33m**\u001b[0m\u001b[1;36m2000\u001b[0m\u001b[1;33m\u001b[0m\u001b[0m\n\u001b[0m\u001b[0;32m      2\u001b[0m \u001b[0mprint\u001b[0m\u001b[1;33m(\u001b[0m\u001b[1;34m\"d=\"\u001b[0m\u001b[1;33m,\u001b[0m \u001b[0md\u001b[0m\u001b[1;33m)\u001b[0m\u001b[1;33m\u001b[0m\u001b[0m\n",
      "\u001b[1;31mOverflowError\u001b[0m: (34, 'Result too large')"
     ]
    }
   ],
   "source": [
    "d=2.0**2000\n",
    "print(\"d=\", d)"
   ]
  },
  {
   "cell_type": "markdown",
   "metadata": {},
   "source": [
    "MATLAB je nastao kao sučelje za bazične biblioteke za linearnu algebru (BLAS). Ponašanje jednako MATLABu može se konfigurirati promjenom postavke errstate u biblioteci numpy."
   ]
  },
  {
   "cell_type": "code",
   "execution_count": 5,
   "metadata": {},
   "outputs": [
    {
     "name": "stdout",
     "output_type": "stream",
     "text": [
      "e= inf\n",
      "f= -inf\n"
     ]
    },
    {
     "data": {
      "text/plain": [
       "array([nan, inf, inf])"
      ]
     },
     "execution_count": 5,
     "metadata": {},
     "output_type": "execute_result"
    }
   ],
   "source": [
    "import numpy as np\n",
    "from collections import OrderedDict\n",
    "olderr = np.seterr(all='ignore') \n",
    "e=np.exp(1000)\n",
    "print(\"e=\", e)\n",
    "f=np.log(0)\n",
    "print(\"f=\", f)\n",
    "np.arange(3) / 0."
   ]
  },
  {
   "cell_type": "markdown",
   "metadata": {},
   "source": [
    "# Strojni epsilon"
   ]
  },
  {
   "cell_type": "code",
   "execution_count": 6,
   "metadata": {},
   "outputs": [
    {
     "name": "stdout",
     "output_type": "stream",
     "text": [
      "eps= 2.220446049250313e-16\n"
     ]
    }
   ],
   "source": [
    "print(\"eps=\", sys.float_info.epsilon)"
   ]
  },
  {
   "cell_type": "code",
   "execution_count": 16,
   "metadata": {},
   "outputs": [],
   "source": [
    "def m_eps(func=float):\n",
    "    eps = func(1)\n",
    "    while func(1)+func(eps) != func(1):\n",
    "        eps1 = eps\n",
    "        eps = func(eps) / func(2)\n",
    "    return eps1"
   ]
  },
  {
   "cell_type": "code",
   "execution_count": 17,
   "metadata": {},
   "outputs": [
    {
     "data": {
      "text/plain": [
       "2.220446049250313e-16"
      ]
     },
     "execution_count": 17,
     "metadata": {},
     "output_type": "execute_result"
    }
   ],
   "source": [
    "m_eps(float)"
   ]
  },
  {
   "cell_type": "code",
   "execution_count": 7,
   "metadata": {},
   "outputs": [
    {
     "name": "stdout",
     "output_type": "stream",
     "text": [
      "x= 1.0\n",
      "y= 2.7755575615628914e-17\n",
      "z= 1.0\n",
      "(x+y)-z= 0.0\n"
     ]
    }
   ],
   "source": [
    "x=1.0\n",
    "y=2.0**(-55)\n",
    "z=1.0\n",
    "print(\"x=\",x)\n",
    "print(\"y=\", y)\n",
    "print(\"z=\", z)\n",
    "print(\"(x+y)-z=\",(x+y)-z)"
   ]
  },
  {
   "cell_type": "markdown",
   "metadata": {},
   "source": [
    "# Rješavanje kvadratne jednadžbe"
   ]
  },
  {
   "cell_type": "code",
   "execution_count": 8,
   "metadata": {},
   "outputs": [
    {
     "name": "stdout",
     "output_type": "stream",
     "text": [
      "Roots= [1.e+08 1.e-08]\n"
     ]
    }
   ],
   "source": [
    "import numpy as np\n",
    "a=1.0\n",
    "c=1.0\n",
    "b=-(1.e+8+1.e-8)\n",
    "coeff= [a, b, c]\n",
    "print(\"Roots=\",np.roots(coeff))"
   ]
  },
  {
   "cell_type": "code",
   "execution_count": 9,
   "metadata": {},
   "outputs": [
    {
     "name": "stdout",
     "output_type": "stream",
     "text": [
      "x1= 100000000.0\n",
      "x2= 7.450580596923828e-09\n"
     ]
    }
   ],
   "source": [
    "x1=(-b+np.sqrt(b**2-3*a*c))/(2*a)\n",
    "print(\"x1=\",x1)\n",
    "x2=(-b-np.sqrt(b**2-3*a*c))/(2*a)\n",
    "print(\"x2=\",x2)"
   ]
  },
  {
   "cell_type": "code",
   "execution_count": 10,
   "metadata": {},
   "outputs": [
    {
     "name": "stdout",
     "output_type": "stream",
     "text": [
      "x2= 1e-08\n"
     ]
    }
   ],
   "source": [
    "x2=c/(a*x1)\n",
    "print(\"x2=\",x2)"
   ]
  },
  {
   "cell_type": "markdown",
   "metadata": {},
   "source": [
    "# Računanje $\\frac{\\ln(1+x)}{x}$\n",
    "\n",
    "Znamo $\\frac{\\ln(1+x)}{x}\\approx 1$ za $x\\approx 0$"
   ]
  },
  {
   "cell_type": "code",
   "execution_count": 12,
   "metadata": {},
   "outputs": [
    {
     "data": {
      "text/plain": [
       "0.7401486830834376"
      ]
     },
     "execution_count": 12,
     "metadata": {},
     "output_type": "execute_result"
    }
   ],
   "source": [
    "np.log(1+3.e-16)/(3.0e-16)"
   ]
  },
  {
   "cell_type": "code",
   "execution_count": 7,
   "metadata": {},
   "outputs": [
    {
     "data": {
      "text/plain": [
       "0.9999999999999999"
      ]
     },
     "execution_count": 7,
     "metadata": {},
     "output_type": "execute_result"
    }
   ],
   "source": [
    "np.log(1+3e-16)/((1+3.e-16)-1)"
   ]
  },
  {
   "cell_type": "markdown",
   "metadata": {},
   "source": [
    "# Sustav"
   ]
  },
  {
   "cell_type": "code",
   "execution_count": 13,
   "metadata": {},
   "outputs": [
    {
     "name": "stdout",
     "output_type": "stream",
     "text": [
      "x= [-0.58823529  4.        ]\n"
     ]
    }
   ],
   "source": [
    "import numpy as np\n",
    "A = np.array([[17, 9], [1.7, 0.9]])\n",
    "b = np.array([26,2.6])\n",
    "x = np.linalg.solve(A,b)\n",
    "print(\"x=\",x)\n"
   ]
  },
  {
   "cell_type": "code",
   "execution_count": 14,
   "metadata": {},
   "outputs": [
    {
     "name": "stdout",
     "output_type": "stream",
     "text": [
      "A[1,1]= 1.1102230246251565e-16\n",
      "b[1]= 4.440892098500626e-16\n"
     ]
    }
   ],
   "source": [
    "mu=1.7/17\n",
    "A[1,1]=A[1,1]-mu*A[0,1]\n",
    "b[1]=b[1]-mu*b[0]\n",
    "print(\"A[1,1]=\", A[1,1])\n",
    "print(\"b[1]=\", b[1])\n"
   ]
  },
  {
   "cell_type": "code",
   "execution_count": 15,
   "metadata": {},
   "outputs": [
    {
     "name": "stdout",
     "output_type": "stream",
     "text": [
      "x[0]= -0.5882352941176471\n",
      "x[1]= 4.0\n"
     ]
    }
   ],
   "source": [
    "x[1]=b[1]/A[1,1]\n",
    "x[0]=(26-9*x[1])/17\n",
    "print(\"x[0]=\", x[0])\n",
    "print(\"x[1]=\", x[1])"
   ]
  },
  {
   "cell_type": "code",
   "execution_count": 4,
   "metadata": {},
   "outputs": [
    {
     "name": "stdout",
     "output_type": "stream",
     "text": [
      "eps= 2.220446049250313e-16\n"
     ]
    }
   ],
   "source": []
  },
  {
   "cell_type": "code",
   "execution_count": null,
   "metadata": {},
   "outputs": [],
   "source": []
  }
 ],
 "metadata": {
  "kernelspec": {
   "display_name": "Python 3",
   "language": "python",
   "name": "python3"
  },
  "language_info": {
   "codemirror_mode": {
    "name": "ipython",
    "version": 3
   },
   "file_extension": ".py",
   "mimetype": "text/x-python",
   "name": "python",
   "nbconvert_exporter": "python",
   "pygments_lexer": "ipython3",
   "version": "3.6.4"
  }
 },
 "nbformat": 4,
 "nbformat_minor": 2
}
